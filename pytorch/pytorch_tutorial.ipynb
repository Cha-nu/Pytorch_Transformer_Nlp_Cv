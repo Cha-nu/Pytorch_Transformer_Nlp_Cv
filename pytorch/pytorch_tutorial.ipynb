{
 "cells": [
  {
   "cell_type": "code",
   "execution_count": 1,
   "metadata": {},
   "outputs": [
    {
     "name": "stdout",
     "output_type": "stream",
     "text": [
      "2.6.0+cu126\n",
      "True\n",
      "NVIDIA GeForce RTX 2070\n"
     ]
    }
   ],
   "source": [
    "# 파이토치 작동 확인\n",
    "import torch\n",
    "\n",
    "print(torch.__version__)\n",
    "print(torch.cuda.is_available())\n",
    "print(torch.cuda.get_device_name(0))\n"
   ]
  },
  {
   "cell_type": "code",
   "execution_count": 2,
   "metadata": {},
   "outputs": [
    {
     "name": "stdout",
     "output_type": "stream",
     "text": [
      "tensor([1, 2, 3])\n",
      "tensor([[1, 2, 3],\n",
      "        [4, 5, 6]])\n",
      "tensor([1, 2, 3])\n",
      "tensor([1., 2., 3.])\n"
     ]
    }
   ],
   "source": [
    "# 텐서 생성\n",
    "print(torch.tensor([1, 2, 3]))\n",
    "print(torch.tensor([[1, 2, 3], [4, 5, 6]]))\n",
    "print(torch.LongTensor([1, 2, 3]))\n",
    "print(torch.FloatTensor([1, 2, 3]))"
   ]
  },
  {
   "cell_type": "code",
   "execution_count": 3,
   "metadata": {},
   "outputs": [
    {
     "name": "stdout",
     "output_type": "stream",
     "text": [
      "tensor([[0.8031, 0.3826]], device='cuda:0')\n",
      "torch.Size([1, 2])\n",
      "torch.float32\n",
      "cuda:0\n"
     ]
    }
   ],
   "source": [
    "tensor = torch.rand(1, 2, device=\"cuda\")\n",
    "print(tensor)\n",
    "print(tensor.shape)\n",
    "print(tensor.dtype)\n",
    "print(tensor.device)"
   ]
  },
  {
   "cell_type": "code",
   "execution_count": 4,
   "metadata": {},
   "outputs": [
    {
     "name": "stdout",
     "output_type": "stream",
     "text": [
      "tensor([[0.2089, 0.1014]])\n",
      "torch.Size([1, 2])\n",
      "tensor([[0.2089],\n",
      "        [0.1014]])\n",
      "torch.Size([2, 1])\n"
     ]
    }
   ],
   "source": [
    "tensor = torch.rand(1, 2)\n",
    "print(tensor)\n",
    "print(tensor.shape)\n",
    "\n",
    "tensor = tensor.reshape(2, 1) # 텐서 차원 변환\n",
    "print(tensor)\n",
    "print(tensor.shape)"
   ]
  },
  {
   "cell_type": "code",
   "execution_count": 5,
   "metadata": {},
   "outputs": [
    {
     "name": "stdout",
     "output_type": "stream",
     "text": [
      "tensor([[0.7480, 0.0923, 0.2632],\n",
      "        [0.6250, 0.1482, 0.5010],\n",
      "        [0.2838, 0.8832, 0.1708]])\n"
     ]
    }
   ],
   "source": [
    "# 텐서 자료형 설정\n",
    "tensor = torch.rand((3, 3), dtype=torch.float)\n",
    "print(tensor)"
   ]
  },
  {
   "cell_type": "code",
   "execution_count": 6,
   "metadata": {},
   "outputs": [
    {
     "name": "stdout",
     "output_type": "stream",
     "text": [
      "cuda\n",
      "tensor([1., 2., 3.])\n",
      "tensor([1., 2., 3.], device='cuda:0')\n",
      "tensor([[0.0448]], device='cuda:0')\n"
     ]
    },
    {
     "name": "stderr",
     "output_type": "stream",
     "text": [
      "C:\\Users\\LCW\\AppData\\Local\\Temp\\ipykernel_572\\2194115970.py:4: UserWarning: The torch.cuda.*DtypeTensor constructors are no longer recommended. It's best to use methods such as torch.tensor(data, dtype=*, device='cuda') to create tensors. (Triggered internally at C:\\actions-runner\\_work\\pytorch\\pytorch\\pytorch\\torch\\csrc\\tensor\\python_tensor.cpp:80.)\n",
      "  gpu = torch.cuda.FloatTensor([1, 2, 3])\n"
     ]
    }
   ],
   "source": [
    "# 장치 설정\n",
    "device = \"cuda\" if torch.cuda.is_available() else \"cpu\"\n",
    "cpu = torch.FloatTensor([1, 2, 3])\n",
    "gpu = torch.cuda.FloatTensor([1, 2, 3])\n",
    "tensor = torch.rand((1, 1), device=device)\n",
    "print(device)\n",
    "print(cpu)\n",
    "print(gpu)\n",
    "print(tensor)"
   ]
  },
  {
   "cell_type": "code",
   "execution_count": 7,
   "metadata": {},
   "outputs": [
    {
     "name": "stdout",
     "output_type": "stream",
     "text": [
      "tensor([1., 2., 3.])\n",
      "tensor([1., 2., 3.], device='cuda:0')\n",
      "tensor([1., 2., 3.])\n",
      "tensor([1., 2., 3.], device='cuda:0')\n"
     ]
    }
   ],
   "source": [
    "# 장치 변환환\n",
    "cpu = torch.FloatTensor([1, 2, 3])\n",
    "gpu = cpu.cuda()\n",
    "gpu2cpu = gpu.cpu()\n",
    "cpu2gpu = cpu.to(\"cuda\")\n",
    "print(cpu)\n",
    "print(gpu)\n",
    "print(gpu2cpu)\n",
    "print(cpu2gpu)"
   ]
  },
  {
   "cell_type": "code",
   "execution_count": 8,
   "metadata": {},
   "outputs": [
    {
     "name": "stdout",
     "output_type": "stream",
     "text": [
      "tensor([1, 2, 3], dtype=torch.uint8)\n",
      "tensor([1., 2., 3.])\n",
      "tensor([1, 2, 3], dtype=torch.uint8)\n"
     ]
    }
   ],
   "source": [
    "# 넘파이 배열 텐서 변환\n",
    "import numpy as np\n",
    "\n",
    "ndarray = np.array([1,2,3], dtype=np.uint8)\n",
    "print(torch.tensor(ndarray))\n",
    "print(torch.Tensor(ndarray))\n",
    "print(torch.from_numpy(ndarray))"
   ]
  },
  {
   "cell_type": "code",
   "execution_count": 9,
   "metadata": {},
   "outputs": [
    {
     "name": "stdout",
     "output_type": "stream",
     "text": [
      "[1. 2. 3.]\n",
      "<class 'numpy.ndarray'>\n"
     ]
    }
   ],
   "source": [
    "# 텐서 넘파이 배열 변환\n",
    "tensor = torch.cuda.FloatTensor([1,2,3])\n",
    "ndarray = tensor.detach().cpu().numpy()\n",
    "print(ndarray)\n",
    "print(type(ndarray))"
   ]
  },
  {
   "cell_type": "code",
   "execution_count": 10,
   "metadata": {},
   "outputs": [
    {
     "data": {
      "image/png": "[encoded data removed]",
      "text/plain": [
       "<Figure size 500.75x400 with 1 Axes>"
      ]
     },
     "metadata": {},
     "output_type": "display_data"
    }
   ],
   "source": [
    "import pandas as pd\n",
    "import seaborn as sns\n",
    "from scipy import stats\n",
    "from matplotlib import pyplot as plt\n",
    "\n",
    "man_height = stats.norm.rvs(loc=170, scale=10, size=500, random_state=1)\n",
    "woman_height = stats.norm.rvs(loc=150, scale=10, size=500, random_state=1)\n",
    "\n",
    "X = np.concatenate([man_height, woman_height])\n",
    "Y = [\"man\"] * len(man_height) + [\"woman\"] * len(woman_height)\n",
    "\n",
    "df = pd.DataFrame(list(zip(X, Y)), columns=[\"X\", \"Y\"])\n",
    "fig = sns.displot(data=df, x=\"X\", hue=\"Y\", kind=\"kde\", height=4)\n",
    "fig.set_axis_labels(\"cm\", \"count\")\n",
    "plt.show()"
   ]
  },
  {
   "cell_type": "code",
   "execution_count": 11,
   "metadata": {},
   "outputs": [
    {
     "name": "stdout",
     "output_type": "stream",
     "text": [
      "statistic 31.96162891312776\n",
      "pvalue:  6.2285854381989205e-155\n",
      "*:  True\n",
      "**:  True\n"
     ]
    }
   ],
   "source": [
    "statistic, pvalue = stats.ttest_ind(man_height, woman_height, equal_var=True)\n",
    "\n",
    "print(\"statistic\", statistic)\n",
    "print(\"pvalue: \", pvalue)\n",
    "print(\"*: \", pvalue < 0.05)\n",
    "print(\"**: \", pvalue < 0.001)"
   ]
  },
  {
   "cell_type": "code",
   "execution_count": 12,
   "metadata": {},
   "outputs": [
    {
     "name": "stdout",
     "output_type": "stream",
     "text": [
      "Epoch : 1000. Weight : 0.856, Bias : -0.001, Cost : 0.041\n",
      "Epoch : 2000. Weight : 0.970, Bias : -0.000, Cost : 0.023\n",
      "Epoch : 3000. Weight : 0.986, Bias : -0.000, Cost : 0.023\n",
      "Epoch : 4000. Weight : 0.988, Bias : -0.000, Cost : 0.023\n",
      "Epoch : 5000. Weight : 0.988, Bias : -0.000, Cost : 0.023\n",
      "Epoch : 6000. Weight : 0.988, Bias : -0.000, Cost : 0.023\n",
      "Epoch : 7000. Weight : 0.988, Bias : -0.000, Cost : 0.023\n",
      "Epoch : 8000. Weight : 0.988, Bias : -0.000, Cost : 0.023\n",
      "Epoch : 9000. Weight : 0.988, Bias : -0.000, Cost : 0.023\n",
      "Epoch : 10000. Weight : 0.988, Bias : -0.000, Cost : 0.023\n"
     ]
    }
   ],
   "source": [
    "import numpy as np\n",
    "from sklearn.preprocessing import StandardScaler\n",
    "\n",
    "# 데이터 준비\n",
    "x = np.array([[i] for i in range(1, 31)], dtype=np.float32)\n",
    "y = np.array([[0.94], [1.98], [2.88], [3.92], [3.96], [4.55], [5.64], [6.3], [7.44], [9.1],\n",
    "              [8.46], [9.5], [10.67], [11.16], [14], [11.83], [14.4], [14.25], [16.2], [16.32],\n",
    "              [17.46], [19.8], [18], [21.34], [22], [22.5], [24.57], [26.04], [21.6], [28.8]], dtype=np.float32)\n",
    "\n",
    "# 데이터 정규화\n",
    "scaler_x = StandardScaler()\n",
    "scaler_y = StandardScaler()\n",
    "x = scaler_x.fit_transform(x)\n",
    "y = scaler_y.fit_transform(y)\n",
    "\n",
    "# 파라미터 초기화\n",
    "weight = np.random.randn() * 0.01  # 작은 랜덤값으로 초기화\n",
    "bias = np.random.randn() * 0.01\n",
    "learning_rate = 0.001  # 학습률 조정\n",
    "\n",
    "# 학습 루프\n",
    "epochs = 10000\n",
    "for epoch in range(epochs):\n",
    "    yh = weight * x + bias\n",
    "    cost = ((y - yh) ** 2).mean()\n",
    "\n",
    "    # 수동 경사 하강법 (flatten 추가)\n",
    "    grad_w = -2 * ((y - yh).flatten() * x.flatten()).mean() # flatten() 2차원 배열의 브로드 캐스트를 방지하기 위해 1차원 배열로 변환\n",
    "    grad_b = -2 * (y - yh).mean()\n",
    "\n",
    "    weight -= learning_rate * grad_w\n",
    "    bias -= learning_rate * grad_b\n",
    "\n",
    "    # NaN 체크\n",
    "    if np.isnan(weight) or np.isnan(bias):\n",
    "        print(f\"NaN detected at epoch {epoch + 1}! Stopping training.\")\n",
    "        break\n",
    "\n",
    "    if (epoch + 1) % 1000 == 0:\n",
    "        print(f\"Epoch : {epoch+1:4d}. Weight : {weight:.3f}, Bias : {bias:.3f}, Cost : {cost:.3f}\")"
   ]
  },
  {
   "cell_type": "code",
   "execution_count": 13,
   "metadata": {},
   "outputs": [
    {
     "name": "stdout",
     "output_type": "stream",
     "text": [
      "Epoch : 1000, Weight : 0.864, Bias : -0.138, Cost : 1.393\n",
      "Epoch : 2000, Weight : 0.870, Bias : -0.251, Cost : 1.380\n",
      "Epoch : 3000, Weight : 0.873, Bias : -0.321, Cost : 1.375\n",
      "Epoch : 4000, Weight : 0.875, Bias : -0.364, Cost : 1.373\n",
      "Epoch : 5000, Weight : 0.877, Bias : -0.391, Cost : 1.373\n",
      "Epoch : 6000, Weight : 0.878, Bias : -0.408, Cost : 1.372\n",
      "Epoch : 7000, Weight : 0.878, Bias : -0.419, Cost : 1.372\n",
      "Epoch : 8000, Weight : 0.878, Bias : -0.425, Cost : 1.372\n",
      "Epoch : 9000, Weight : 0.879, Bias : -0.429, Cost : 1.372\n",
      "Epoch : 10000, Weight : 0.879, Bias : -0.432, Cost : 1.372\n"
     ]
    }
   ],
   "source": [
    "import torch\n",
    "from torch import optim\n",
    "\n",
    "x = torch.FloatTensor([[i] for i in range(1, 31)])\n",
    "y = torch.FloatTensor([[0.94], [1.98], [2.88], [3.92], [3.96], [4.55], [5.64], [6.3], [7.44], [9.1],\n",
    "              [8.46], [9.5], [10.67], [11.16], [14], [11.83], [14.4], [14.25], [16.2], [16.32],\n",
    "              [17.46], [19.8], [18], [21.34], [22], [22.5], [24.57], [26.04], [21.6], [28.8]])\n",
    "\n",
    "weight = torch.zeros(1, requires_grad=True)\n",
    "bias = torch.zeros(1, requires_grad=True)\n",
    "learning_rate = 0.001\n",
    "\n",
    "optimizer = optim.SGD([weight, bias], lr=learning_rate)\n",
    "\n",
    "for epoch in range(10000):\n",
    "    hypothesis = weight * x + bias\n",
    "    cost = torch.mean((hypothesis - y) ** 2)\n",
    "\n",
    "    optimizer.zero_grad()\n",
    "    cost.backward()\n",
    "    optimizer.step()\n",
    "\n",
    "    if (epoch + 1) % 1000 == 0:\n",
    "        print(f\"Epoch : {epoch+1:4d}, Weight : {weight.item():.3f}, Bias : {bias.item():.3f}, Cost : {cost:.3f}\")"
   ]
  },
  {
   "cell_type": "code",
   "execution_count": null,
   "metadata": {},
   "outputs": [
    {
     "name": "stdout",
     "output_type": "stream",
     "text": [
      "Epoch :    1\n",
      "Step [1] : Gradiant : None, Weight : 0.00000\n",
      "Step [2] : Gradiant : None, Weight : 0.00000\n",
      "Step [3] : Gradiant : tensor([-540.4854]), Weight : 0.00000\n",
      "Step [4] : Gradiant : tensor([-540.4854]), Weight : 0.54049\n",
      "Epoch :    2\n",
      "Step [1] : Gradiant : tensor([-540.4854]), Weight : 0.54049\n",
      "Step [2] : Gradiant : None, Weight : 0.54049\n",
      "Step [3] : Gradiant : tensor([-198.9818]), Weight : 0.54049\n",
      "Step [4] : Gradiant : tensor([-198.9818]), Weight : 0.73947\n"
     ]
    }
   ],
   "source": [
    "import torch\n",
    "from torch import optim\n",
    "\n",
    "x = torch.FloatTensor([[i] for i in range(1, 31)])\n",
    "y = torch.FloatTensor([[0.94], [1.98], [2.88], [3.92], [3.96], [4.55], [5.64], [6.3], [7.44], [9.1],\n",
    "              [8.46], [9.5], [10.67], [11.16], [14], [11.83], [14.4], [14.25], [16.2], [16.32],\n",
    "              [17.46], [19.8], [18], [21.34], [22], [22.5], [24.57], [26.04], [21.6], [28.8]])\n",
    "\n",
    "weight = torch.zeros(1, requires_grad=True)\n",
    "bias = torch.zeros(1, requires_grad=True)\n",
    "learning_rate = 0.001\n",
    "\n",
    "optimizer = optim.SGD([weight, bias], lr=learning_rate)\n",
    "\n",
    "for epoch in range(2):\n",
    "    hypothesis = weight * x + bias\n",
    "    cost = torch.mean((hypothesis - y) ** 2)\n",
    "\n",
    "    print(f\"Epoch : {epoch+1:4d}\")\n",
    "    print(f\"Step [1] : Gradiant : {weight.grad}, Weight : {weight.item():.5f}\")\n",
    "    optimizer.zero_grad()\n",
    "    print(f\"Step [2] : Gradiant : {weight.grad}, Weight : {weight.item():.5f}\")\n",
    "    cost.backward()\n",
    "    print(f\"Step [3] : Gradiant : {weight.grad}, Weight : {weight.item():.5f}\")\n",
    "    optimizer.step()\n",
    "    print(f\"Step [4] : Gradiant : {weight.grad}, Weight : {weight.item():.5f}\")"
   ]
  },
  {
   "cell_type": "code",
   "execution_count": 3,
   "metadata": {},
   "outputs": [
    {
     "name": "stdout",
     "output_type": "stream",
     "text": [
      "Epoch : 1000, Model : [Parameter containing:\n",
      "tensor([[0.8538]], requires_grad=True), Parameter containing:\n",
      "tensor([0.0732], requires_grad=True)], Cost : 1.434\n",
      "Epoch : 2000, Model : [Parameter containing:\n",
      "tensor([[0.8633]], requires_grad=True), Parameter containing:\n",
      "tensor([-0.1191], requires_grad=True)], Cost : 1.396\n",
      "Epoch : 3000, Model : [Parameter containing:\n",
      "tensor([[0.8692]], requires_grad=True), Parameter containing:\n",
      "tensor([-0.2388], requires_grad=True)], Cost : 1.381\n",
      "Epoch : 4000, Model : [Parameter containing:\n",
      "tensor([[0.8729]], requires_grad=True), Parameter containing:\n",
      "tensor([-0.3133], requires_grad=True)], Cost : 1.376\n",
      "Epoch : 5000, Model : [Parameter containing:\n",
      "tensor([[0.8751]], requires_grad=True), Parameter containing:\n",
      "tensor([-0.3596], requires_grad=True)], Cost : 1.374\n",
      "Epoch : 6000, Model : [Parameter containing:\n",
      "tensor([[0.8766]], requires_grad=True), Parameter containing:\n",
      "tensor([-0.3884], requires_grad=True)], Cost : 1.373\n",
      "Epoch : 7000, Model : [Parameter containing:\n",
      "tensor([[0.8774]], requires_grad=True), Parameter containing:\n",
      "tensor([-0.4064], requires_grad=True)], Cost : 1.372\n",
      "Epoch : 8000, Model : [Parameter containing:\n",
      "tensor([[0.8780]], requires_grad=True), Parameter containing:\n",
      "tensor([-0.4175], requires_grad=True)], Cost : 1.372\n",
      "Epoch : 9000, Model : [Parameter containing:\n",
      "tensor([[0.8783]], requires_grad=True), Parameter containing:\n",
      "tensor([-0.4245], requires_grad=True)], Cost : 1.372\n",
      "Epoch : 10000, Model : [Parameter containing:\n",
      "tensor([[0.8785]], requires_grad=True), Parameter containing:\n",
      "tensor([-0.4288], requires_grad=True)], Cost : 1.372\n"
     ]
    }
   ],
   "source": [
    "import torch\n",
    "from torch import nn\n",
    "from torch import optim\n",
    "\n",
    "x = torch.FloatTensor([[i] for i in range(1, 31)])\n",
    "y = torch.FloatTensor([[0.94], [1.98], [2.88], [3.92], [3.96], [4.55], [5.64], [6.3], [7.44], [9.1],\n",
    "              [8.46], [9.5], [10.67], [11.16], [14], [11.83], [14.4], [14.25], [16.2], [16.32],\n",
    "              [17.46], [19.8], [18], [21.34], [22], [22.5], [24.57], [26.04], [21.6], [28.8]])\n",
    "\n",
    "model = nn.Linear(1, 1)\n",
    "criterion = nn.MSELoss()\n",
    "optimizer = optim.SGD(model.parameters(), lr=0.001)\n",
    "\n",
    "for epoch in range(10000):\n",
    "    output = model(x)\n",
    "    cost = criterion(output, y)\n",
    "\n",
    "    optimizer.zero_grad()\n",
    "    cost.backward()\n",
    "    optimizer.step()\n",
    "\n",
    "    if (epoch + 1) % 1000 == 0:\n",
    "        print(f\"Epoch : {epoch+1:4d}, Model : {list(model.parameters())}, Cost : {cost:.3f}\")"
   ]
  },
  {
   "cell_type": "code",
   "execution_count": 4,
   "metadata": {},
   "outputs": [],
   "source": [
    "class Dataset:\n",
    "    def __init__(self, data, *arg, **kwargs):\n",
    "        self.data = data\n",
    "    \n",
    "    def __getitem__(self, index):\n",
    "        return tuple(data[index] for data in self.data.tensor)\n",
    "    \n",
    "    def __len__(self):\n",
    "        return self.data[0].size(0)"
   ]
  },
  {
   "cell_type": "code",
   "execution_count": 7,
   "metadata": {},
   "outputs": [
    {
     "name": "stdout",
     "output_type": "stream",
     "text": [
      "Epoch : 1000, Model : [Parameter containing:\n",
      "tensor([[ 1.1276, -0.3292],\n",
      "        [ 0.7359,  0.5364]], requires_grad=True), Parameter containing:\n",
      "tensor([-0.0430, -0.2200], requires_grad=True)], Cost : 0.019\n",
      "Epoch : 2000, Model : [Parameter containing:\n",
      "tensor([[ 1.2308, -0.3826],\n",
      "        [ 0.7640,  0.5219]], requires_grad=True), Parameter containing:\n",
      "tensor([-0.1995, -0.2626], requires_grad=True)], Cost : 0.005\n",
      "Epoch : 3000, Model : [Parameter containing:\n",
      "tensor([[ 1.2834, -0.4097],\n",
      "        [ 0.7783,  0.5145]], requires_grad=True), Parameter containing:\n",
      "tensor([-0.2792, -0.2843], requires_grad=True)], Cost : 0.001\n",
      "Epoch : 4000, Model : [Parameter containing:\n",
      "tensor([[ 1.3101, -0.4236],\n",
      "        [ 0.7856,  0.5107]], requires_grad=True), Parameter containing:\n",
      "tensor([-0.3199, -0.2954], requires_grad=True)], Cost : 0.000\n",
      "Epoch : 5000, Model : [Parameter containing:\n",
      "tensor([[ 1.3238, -0.4306],\n",
      "        [ 0.7893,  0.5088]], requires_grad=True), Parameter containing:\n",
      "tensor([-0.3406, -0.3010], requires_grad=True)], Cost : 0.000\n",
      "Epoch : 6000, Model : [Parameter containing:\n",
      "tensor([[ 1.3307, -0.4342],\n",
      "        [ 0.7912,  0.5079]], requires_grad=True), Parameter containing:\n",
      "tensor([-0.3511, -0.3039], requires_grad=True)], Cost : 0.000\n",
      "Epoch : 7000, Model : [Parameter containing:\n",
      "tensor([[ 1.3343, -0.4360],\n",
      "        [ 0.7922,  0.5074]], requires_grad=True), Parameter containing:\n",
      "tensor([-0.3565, -0.3053], requires_grad=True)], Cost : 0.000\n",
      "Epoch : 8000, Model : [Parameter containing:\n",
      "tensor([[ 1.3361, -0.4370],\n",
      "        [ 0.7927,  0.5071]], requires_grad=True), Parameter containing:\n",
      "tensor([-0.3592, -0.3061], requires_grad=True)], Cost : 0.000\n",
      "Epoch : 9000, Model : [Parameter containing:\n",
      "tensor([[ 1.3370, -0.4374],\n",
      "        [ 0.7929,  0.5070]], requires_grad=True), Parameter containing:\n",
      "tensor([-0.3606, -0.3064], requires_grad=True)], Cost : 0.000\n",
      "Epoch : 10000, Model : [Parameter containing:\n",
      "tensor([[ 1.3375, -0.4377],\n",
      "        [ 0.7930,  0.5069]], requires_grad=True), Parameter containing:\n",
      "tensor([-0.3613, -0.3066], requires_grad=True)], Cost : 0.000\n",
      "Epoch : 11000, Model : [Parameter containing:\n",
      "tensor([[ 1.3377, -0.4378],\n",
      "        [ 0.7931,  0.5069]], requires_grad=True), Parameter containing:\n",
      "tensor([-0.3617, -0.3067], requires_grad=True)], Cost : 0.000\n",
      "Epoch : 12000, Model : [Parameter containing:\n",
      "tensor([[ 1.3378, -0.4379],\n",
      "        [ 0.7931,  0.5069]], requires_grad=True), Parameter containing:\n",
      "tensor([-0.3619, -0.3068], requires_grad=True)], Cost : 0.000\n",
      "Epoch : 13000, Model : [Parameter containing:\n",
      "tensor([[ 1.3379, -0.4379],\n",
      "        [ 0.7931,  0.5069]], requires_grad=True), Parameter containing:\n",
      "tensor([-0.3620, -0.3068], requires_grad=True)], Cost : 0.000\n",
      "Epoch : 14000, Model : [Parameter containing:\n",
      "tensor([[ 1.3379, -0.4379],\n",
      "        [ 0.7932,  0.5068]], requires_grad=True), Parameter containing:\n",
      "tensor([-0.3620, -0.3068], requires_grad=True)], Cost : 0.000\n",
      "Epoch : 15000, Model : [Parameter containing:\n",
      "tensor([[ 1.3379, -0.4379],\n",
      "        [ 0.7932,  0.5068]], requires_grad=True), Parameter containing:\n",
      "tensor([-0.3620, -0.3068], requires_grad=True)], Cost : 0.000\n",
      "Epoch : 16000, Model : [Parameter containing:\n",
      "tensor([[ 1.3379, -0.4379],\n",
      "        [ 0.7932,  0.5068]], requires_grad=True), Parameter containing:\n",
      "tensor([-0.3620, -0.3068], requires_grad=True)], Cost : 0.000\n",
      "Epoch : 17000, Model : [Parameter containing:\n",
      "tensor([[ 1.3379, -0.4379],\n",
      "        [ 0.7932,  0.5068]], requires_grad=True), Parameter containing:\n",
      "tensor([-0.3620, -0.3068], requires_grad=True)], Cost : 0.000\n",
      "Epoch : 18000, Model : [Parameter containing:\n",
      "tensor([[ 1.3379, -0.4379],\n",
      "        [ 0.7932,  0.5068]], requires_grad=True), Parameter containing:\n",
      "tensor([-0.3620, -0.3068], requires_grad=True)], Cost : 0.000\n",
      "Epoch : 19000, Model : [Parameter containing:\n",
      "tensor([[ 1.3379, -0.4379],\n",
      "        [ 0.7932,  0.5068]], requires_grad=True), Parameter containing:\n",
      "tensor([-0.3620, -0.3068], requires_grad=True)], Cost : 0.000\n",
      "Epoch : 20000, Model : [Parameter containing:\n",
      "tensor([[ 1.3379, -0.4379],\n",
      "        [ 0.7932,  0.5068]], requires_grad=True), Parameter containing:\n",
      "tensor([-0.3620, -0.3068], requires_grad=True)], Cost : 0.000\n"
     ]
    }
   ],
   "source": [
    "import torch\n",
    "from torch import nn\n",
    "from torch import optim\n",
    "from torch.utils.data import TensorDataset, DataLoader\n",
    "\n",
    "train_x = torch.FloatTensor([[1, 2], [2, 3], [3, 4], [4, 5], [5, 6], [6, 7]])\n",
    "train_y = torch.FloatTensor([[0.1, 1.5], [1, 2.8], [1.9, 4.1], [2.8, 5.4], [3.7, 6.7], [4.6, 8]])\n",
    "\n",
    "train_dataset = TensorDataset(train_x, train_y)\n",
    "train_dataloader = DataLoader(train_dataset, batch_size=2, shuffle=True, drop_last=True)\n",
    "\n",
    "model = nn.Linear(2, 2, bias=True)\n",
    "criterion = nn.MSELoss()\n",
    "optimizer = optim.SGD(model.parameters(), lr=0.001)\n",
    "\n",
    "for epoch in range(20000):\n",
    "    cost = 0.0\n",
    "    for batch in train_dataloader:\n",
    "        x, y = batch\n",
    "        output = model(x)\n",
    "\n",
    "        loss = criterion(output, y)\n",
    "\n",
    "        optimizer.zero_grad()\n",
    "        loss.backward()\n",
    "        optimizer.step()\n",
    "\n",
    "        cost += loss\n",
    "\n",
    "    cost = cost / len(train_dataloader)\n",
    "\n",
    "    if (epoch + 1) % 1000 == 0:\n",
    "        print(f\"Epoch : {epoch+1:4d}, Model : {list(model.parameters())}, Cost : {cost:.3f}\")"
   ]
  },
  {
   "cell_type": "code",
   "execution_count": 8,
   "metadata": {},
   "outputs": [
    {
     "name": "stdout",
     "output_type": "stream",
     "text": [
      "Epoch : 1000, Model : [Parameter containing:\n",
      "tensor([[0.5344, 0.1429],\n",
      "        [0.8003, 0.4424]], requires_grad=True)], Cost : 0.092\n",
      "Epoch : 2000, Model : [Parameter containing:\n",
      "tensor([[ 0.7735, -0.0508],\n",
      "        [ 0.8618,  0.3926]], requires_grad=True)], Cost : 0.058\n",
      "Epoch : 3000, Model : [Parameter containing:\n",
      "tensor([[ 0.9638, -0.2044],\n",
      "        [ 0.9107,  0.3531]], requires_grad=True)], Cost : 0.037\n",
      "Epoch : 4000, Model : [Parameter containing:\n",
      "tensor([[ 1.1149, -0.3267],\n",
      "        [ 0.9496,  0.3217]], requires_grad=True)], Cost : 0.023\n",
      "Epoch : 5000, Model : [Parameter containing:\n",
      "tensor([[ 1.2350, -0.4239],\n",
      "        [ 0.9805,  0.2967]], requires_grad=True)], Cost : 0.015\n",
      "Epoch : 6000, Model : [Parameter containing:\n",
      "tensor([[ 1.3304, -0.5012],\n",
      "        [ 1.0050,  0.2768]], requires_grad=True)], Cost : 0.009\n",
      "Epoch : 7000, Model : [Parameter containing:\n",
      "tensor([[ 1.4063, -0.5624],\n",
      "        [ 1.0245,  0.2611]], requires_grad=True)], Cost : 0.006\n",
      "Epoch : 8000, Model : [Parameter containing:\n",
      "tensor([[ 1.4666, -0.6112],\n",
      "        [ 1.0400,  0.2485]], requires_grad=True)], Cost : 0.004\n",
      "Epoch : 9000, Model : [Parameter containing:\n",
      "tensor([[ 1.5145, -0.6500],\n",
      "        [ 1.0523,  0.2386]], requires_grad=True)], Cost : 0.002\n",
      "Epoch : 10000, Model : [Parameter containing:\n",
      "tensor([[ 1.5525, -0.6808],\n",
      "        [ 1.0621,  0.2306]], requires_grad=True)], Cost : 0.001\n",
      "Epoch : 11000, Model : [Parameter containing:\n",
      "tensor([[ 1.5828, -0.7052],\n",
      "        [ 1.0699,  0.2244]], requires_grad=True)], Cost : 0.001\n",
      "Epoch : 12000, Model : [Parameter containing:\n",
      "tensor([[ 1.6069, -0.7247],\n",
      "        [ 1.0761,  0.2194]], requires_grad=True)], Cost : 0.001\n",
      "Epoch : 13000, Model : [Parameter containing:\n",
      "tensor([[ 1.6260, -0.7401],\n",
      "        [ 1.0810,  0.2154]], requires_grad=True)], Cost : 0.000\n",
      "Epoch : 14000, Model : [Parameter containing:\n",
      "tensor([[ 1.6412, -0.7524],\n",
      "        [ 1.0849,  0.2122]], requires_grad=True)], Cost : 0.000\n",
      "Epoch : 15000, Model : [Parameter containing:\n",
      "tensor([[ 1.6532, -0.7622],\n",
      "        [ 1.0880,  0.2097]], requires_grad=True)], Cost : 0.000\n",
      "Epoch : 16000, Model : [Parameter containing:\n",
      "tensor([[ 1.6628, -0.7700],\n",
      "        [ 1.0904,  0.2077]], requires_grad=True)], Cost : 0.000\n",
      "Epoch : 17000, Model : [Parameter containing:\n",
      "tensor([[ 1.6705, -0.7761],\n",
      "        [ 1.0924,  0.2061]], requires_grad=True)], Cost : 0.000\n",
      "Epoch : 18000, Model : [Parameter containing:\n",
      "tensor([[ 1.6765, -0.7810],\n",
      "        [ 1.0940,  0.2049]], requires_grad=True)], Cost : 0.000\n",
      "Epoch : 19000, Model : [Parameter containing:\n",
      "tensor([[ 1.6814, -0.7849],\n",
      "        [ 1.0952,  0.2039]], requires_grad=True)], Cost : 0.000\n",
      "Epoch : 20000, Model : [Parameter containing:\n",
      "tensor([[ 1.6852, -0.7880],\n",
      "        [ 1.0962,  0.2031]], requires_grad=True)], Cost : 0.000\n"
     ]
    }
   ],
   "source": [
    "import torch\n",
    "from torch import nn\n",
    "from torch import optim\n",
    "from torch.utils.data import TensorDataset, DataLoader\n",
    "\n",
    "train_x = torch.FloatTensor([[1, 2], [2, 3], [3, 4], [4, 5], [5, 6], [6, 7]])\n",
    "train_y = torch.FloatTensor([[0.1, 1.5], [1, 2.8], [1.9, 4.1], [2.8, 5.4], [3.7, 6.7], [4.6, 8]])\n",
    "\n",
    "train_dataset = TensorDataset(train_x, train_y)\n",
    "train_dataloader = DataLoader(train_dataset, batch_size=2, shuffle=True, drop_last=True)\n",
    "\n",
    "model = nn.Linear(2, 2, bias=False)\n",
    "criterion = nn.MSELoss()\n",
    "optimizer = optim.SGD(model.parameters(), lr=0.001)\n",
    "\n",
    "for epoch in range(20000):\n",
    "    cost = 0.0\n",
    "    for batch in train_dataloader:\n",
    "        x, y = batch\n",
    "        output = model(x)\n",
    "\n",
    "        loss = criterion(output, y)\n",
    "\n",
    "        optimizer.zero_grad()\n",
    "        loss.backward()\n",
    "        optimizer.step()\n",
    "\n",
    "        cost += loss\n",
    "\n",
    "    cost = cost / len(train_dataloader)\n",
    "\n",
    "    if (epoch + 1) % 1000 == 0:\n",
    "        print(f\"Epoch : {epoch+1:4d}, Model : {list(model.parameters())}, Cost : {cost:.3f}\")"
   ]
  },
  {
   "cell_type": "code",
   "execution_count": 10,
   "metadata": {},
   "outputs": [],
   "source": [
    "import torch.nn.functional as F\n",
    "\n",
    "class Model(nn.Module):\n",
    "    def __init__(self):\n",
    "        super().__init__()\n",
    "        self.conv1 = nn.Conv2d(1, 20, 5)\n",
    "        self.conv2 = nn.Conv2d(20, 20, 5)\n",
    "\n",
    "    def forward(self, x):\n",
    "        x = F.relu(self.conv1(x))\n",
    "        y = F.relu(self.conv2(x))\n",
    "        return x"
   ]
  },
  {
   "cell_type": "code",
   "execution_count": null,
   "metadata": {},
   "outputs": [
    {
     "ename": "ImportError",
     "evalue": "cannot import name 'Dataset' from 'torch.utils' (c:\\Users\\LCW\\AppData\\Local\\Programs\\Python\\Python312\\Lib\\site-packages\\torch\\utils\\__init__.py)",
     "output_type": "error",
     "traceback": [
      "\u001b[1;31m---------------------------------------------------------------------------\u001b[0m",
      "\u001b[1;31mImportError\u001b[0m                               Traceback (most recent call last)",
      "Cell \u001b[1;32mIn[1], line 5\u001b[0m\n\u001b[0;32m      3\u001b[0m \u001b[38;5;28;01mfrom\u001b[39;00m\u001b[38;5;250m \u001b[39m\u001b[38;5;21;01mtorch\u001b[39;00m\u001b[38;5;250m \u001b[39m\u001b[38;5;28;01mimport\u001b[39;00m nn\n\u001b[0;32m      4\u001b[0m \u001b[38;5;28;01mfrom\u001b[39;00m\u001b[38;5;250m \u001b[39m\u001b[38;5;21;01mtorch\u001b[39;00m\u001b[38;5;250m \u001b[39m\u001b[38;5;28;01mimport\u001b[39;00m optim\n\u001b[1;32m----> 5\u001b[0m \u001b[38;5;28;01mfrom\u001b[39;00m\u001b[38;5;250m \u001b[39m\u001b[38;5;21;01mtorch\u001b[39;00m\u001b[38;5;21;01m.\u001b[39;00m\u001b[38;5;21;01mutils\u001b[39;00m\u001b[38;5;250m \u001b[39m\u001b[38;5;28;01mimport\u001b[39;00m Dataset, DataLoader\n\u001b[0;32m      7\u001b[0m \u001b[38;5;28;01mclass\u001b[39;00m\u001b[38;5;250m \u001b[39m\u001b[38;5;21;01mCustomDataset\u001b[39;00m(Dataset):\n\u001b[0;32m      8\u001b[0m     \u001b[38;5;28;01mdef\u001b[39;00m\u001b[38;5;250m \u001b[39m\u001b[38;5;21m__init__\u001b[39m(\u001b[38;5;28mself\u001b[39m, file_path):\n",
      "\u001b[1;31mImportError\u001b[0m: cannot import name 'Dataset' from 'torch.utils' (c:\\Users\\LCW\\AppData\\Local\\Programs\\Python\\Python312\\Lib\\site-packages\\torch\\utils\\__init__.py)"
     ]
    }
   ],
   "source": [
    "import torch\n",
    "import pandas as pd\n",
    "from torch import nn\n",
    "from torch import optim\n",
    "from torch.utils.data import Dataset, DataLoader\n",
    "\n",
    "class CustomDataset(Dataset):\n",
    "    def __init__(self, file_path):\n",
    "        df = pd.read_csv(file_path)\n",
    "        self.x = df.iloc[:, 0].values\n",
    "        self.y = df.iloc[:, 1].values\n",
    "        self.length = len(df)\n",
    "\n",
    "    def __getitem__(self, index):\n",
    "        x = torch.FloatTensor([self.x[index] ** 2, self.x[index]])\n",
    "        y = torch.FloatTensor([self.y[index]])\n",
    "        return x, y\n",
    "    \n",
    "    def __len__(self):\n",
    "        return self.length\n",
    "\n",
    "class CustomModel(nn.Module):\n",
    "    def __init__(self):\n",
    "        super().__init__()\n",
    "        self.layer = nn.Linear(2, 1)\n",
    "    \n",
    "    def forward(self, x):\n",
    "        x = self.layer(x)\n",
    "        return x"
   ]
  }
 ],
 "metadata": {
  "kernelspec": {
   "display_name": "Python 3",
   "language": "python",
   "name": "python3"
  },
  "language_info": {
   "codemirror_mode": {
    "name": "ipython",
    "version": 3
   },
   "file_extension": ".py",
   "mimetype": "text/x-python",
   "name": "python",
   "nbconvert_exporter": "python",
   "pygments_lexer": "ipython3",
   "version": "3.12.9"
  }
 },
 "nbformat": 4,
 "nbformat_minor": 2
}
